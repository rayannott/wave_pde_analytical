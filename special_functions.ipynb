{
 "cells": [
  {
   "cell_type": "code",
   "execution_count": 2,
   "id": "643953c4",
   "metadata": {},
   "outputs": [],
   "source": [
    "def solve(function, sections, time, params):\n",
    "    '''\n",
    "    This function computes the data arrays using a solution function \n",
    "    '''\n",
    "    u_res = []\n",
    "    for eta in sections:\n",
    "        u_res.append(np.array([function(eta, el, params) for el in time]))\n",
    "    u_resnp = np.array(u_res)\n",
    "    return u_resnp"
   ]
  },
  {
   "cell_type": "code",
   "execution_count": 1,
   "id": "7ef9f5e6",
   "metadata": {},
   "outputs": [],
   "source": [
    "def plot_results(x_axis, results, sections=None, figname=None, size='normal', **axis):\n",
    "    fig = plt.figure()\n",
    "    if size == 'large':\n",
    "        size_num = (9, 15)\n",
    "    elif size == 'custom':\n",
    "        size_num = (8, 8)\n",
    "    else:\n",
    "        size_num = (6, 10)\n",
    "    if size != 'default':\n",
    "        fig.set_figheight(size_num[0])\n",
    "        fig.set_figwidth(size_num[1])\n",
    "\n",
    "    lgd = r'$\\eta$'\n",
    "    if axis:\n",
    "        plt.xlabel(axis['xl'])\n",
    "        plt.ylabel(axis['yl'])\n",
    "        if axis['title'] is not None:\n",
    "            plt.title(axis['title'])\n",
    "        if axis['lgd'] is not None:\n",
    "            lgd = axis['lgd']\n",
    "    \n",
    "    if sections is not None:    \n",
    "        for ind, sect in enumerate(sections):\n",
    "            plt.plot(x_axis, results[ind], label= lgd + ' = ' + str(sect))\n",
    "        plt.legend()\n",
    "    else:\n",
    "        plt.plot(x_axis, results)\n",
    "    \n",
    "    plt.grid()\n",
    "    \n",
    "    \n",
    "    if figname is not None:\n",
    "        fig.savefig(f'graphs/{figname}.pdf')\n",
    "    plt.show()"
   ]
  },
  {
   "cell_type": "code",
   "execution_count": 5,
   "id": "02eeba23",
   "metadata": {},
   "outputs": [],
   "source": [
    "# Heaviside function\n",
    "def sigma(x):\n",
    "    return 1 if x>=0 else 0"
   ]
  },
  {
   "cell_type": "code",
   "execution_count": 6,
   "id": "4c05d5b2",
   "metadata": {},
   "outputs": [],
   "source": [
    "# Binomial coefficients\n",
    "def C(k,n):\n",
    "    return np.math.factorial(n)//(np.math.factorial(k)*np.math.factorial(n-k))"
   ]
  },
  {
   "cell_type": "code",
   "execution_count": 7,
   "id": "e0b1536e",
   "metadata": {},
   "outputs": [],
   "source": [
    "# Laguerre polynomials\n",
    "def L(x,k):\n",
    "    res = 0\n",
    "    for i in range(k+1):\n",
    "        res += C(i,k)*(-1)**i/np.math.factorial(i)*x**i\n",
    "    return res"
   ]
  },
  {
   "cell_type": "code",
   "execution_count": 8,
   "id": "cedbaae2",
   "metadata": {},
   "outputs": [],
   "source": [
    "# Laguerre polynomials' antiderivative\n",
    "def T(x,k):\n",
    "    res = 0\n",
    "    for i in range(k+1):\n",
    "        res += C(i,k)*(-1)**i/np.math.factorial(i+1)*x**(i+1)\n",
    "    return res"
   ]
  }
 ],
 "metadata": {
  "kernelspec": {
   "display_name": "Python 3 (ipykernel)",
   "language": "python",
   "name": "python3"
  },
  "language_info": {
   "codemirror_mode": {
    "name": "ipython",
    "version": 3
   },
   "file_extension": ".py",
   "mimetype": "text/x-python",
   "name": "python",
   "nbconvert_exporter": "python",
   "pygments_lexer": "ipython3",
   "version": "3.8.12"
  }
 },
 "nbformat": 4,
 "nbformat_minor": 5
}
