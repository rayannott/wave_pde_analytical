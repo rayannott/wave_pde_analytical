{
 "cells": [
  {
   "cell_type": "code",
   "execution_count": 1,
   "id": "6375b650",
   "metadata": {},
   "outputs": [],
   "source": [
    "# print data arrays into .dat file\n",
    "def save_data(results, sections, time, filename, comments=None):\n",
    "    with open(f'data_arrays/{filename}.dat','w') as f:\n",
    "        if comments is not None:\n",
    "            f.write(comments + '\\n')\n",
    "        f.write('t\\t')\n",
    "        f.write('\\t'.join(str(el) for el in etas) + '\\n')\n",
    "        for t, line in zip(time,results.T):\n",
    "            f.write(str(t)+'\\t'+'\\t'.join(str(el) for el in line)+'\\n')\n",
    "            # an example:\n",
    "            # save_data(hit_analytical, etas, tau, 'collision_analytical', comments='Безразмерные перемещения точек упругого стержня под действием удара твердого тела для разных сечений')"
   ]
  },
  {
   "cell_type": "code",
   "execution_count": 5,
   "id": "9f512812",
   "metadata": {},
   "outputs": [],
   "source": [
    "# does not work anymore\n",
    "# def get_animation(function, const, gifname):\n",
    "#     etas = np.linspace(0,1,51)\n",
    "#     tau = np.linspace(0, 10, 201)\n",
    "#     results = np.array([function(eta, tau, const) for eta in etas])\n",
    "#     results_etas = results.T\n",
    "#     fig, ax = plt.subplots()\n",
    "#     ax.set_xlim(0,1) # x-limits\n",
    "#     ax.set_ylim(-np.max(results_etas),np.max(results_etas)) # y-limits\n",
    "#     ax.grid()\n",
    "#     line, = ax.plot([],[], '-')\n",
    "\n",
    "#     def anim_frame(i):\n",
    "#         line.set_xdata(etas)\n",
    "#         line.set_ydata(results_etas[i])\n",
    "#         ax.set_title(f't = {tau[i]}')\n",
    "#         ax.set_xlabel('eta')\n",
    "#         ax.set_ylabel('u_*')\n",
    "#         return line\n",
    "\n",
    "#     animation = FuncAnimation(fig, func=anim_frame, frames=len(tau), interval=150, blit=True)\n",
    "#     plt.close()\n",
    "#     animation.save(f'graphs/gifs/{name}', writer='imagemagick')"
   ]
  },
  {
   "cell_type": "code",
   "execution_count": 3,
   "id": "39c14481",
   "metadata": {},
   "outputs": [],
   "source": [
    "# Numerical approach for a rigid body collision with a fixed rod\n",
    "from scipy.integrate import quad\n",
    "\n",
    "def integrand(x,k):\n",
    "    return np.exp(-x)*L(2*x,k)\n",
    "\n",
    "def I_hit_num(z0, t, k, const):\n",
    "    alpha = const\n",
    "#     return sigma(t-z0)/alpha*(G(alpha*(t-z0),k)+(-1)**k)\n",
    "    intvalue, _ = quad(integrand, 0, alpha*(t-z0), args=(k,))\n",
    "    return alpha*intvalue if t > z0 else 0\n",
    "\n",
    "# перемещение для закрепленного стержня под действием удара твердого тела\n",
    "def u_hit_num(eta, t, const):\n",
    "    global N\n",
    "    res = 0\n",
    "    for n in range(N):\n",
    "        res += I_hit_num(2*n+1-eta,t,n,const) - I_hit_num(2*n+1+eta,t,n,const)\n",
    "    return -res"
   ]
  },
  {
   "cell_type": "code",
   "execution_count": null,
   "id": "701030e5",
   "metadata": {},
   "outputs": [],
   "source": []
  }
 ],
 "metadata": {
  "kernelspec": {
   "display_name": "Python 3 (ipykernel)",
   "language": "python",
   "name": "python3"
  },
  "language_info": {
   "codemirror_mode": {
    "name": "ipython",
    "version": 3
   },
   "file_extension": ".py",
   "mimetype": "text/x-python",
   "name": "python",
   "nbconvert_exporter": "python",
   "pygments_lexer": "ipython3",
   "version": "3.8.12"
  }
 },
 "nbformat": 4,
 "nbformat_minor": 5
}
